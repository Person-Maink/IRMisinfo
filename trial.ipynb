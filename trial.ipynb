{
 "cells": [
  {
   "cell_type": "code",
   "execution_count": 9,
   "metadata": {},
   "outputs": [
    {
     "name": "stderr",
     "output_type": "stream",
     "text": [
      "[nltk_data] Downloading package punkt to /home/mayank/nltk_data...\n",
      "[nltk_data]   Package punkt is already up-to-date!\n"
     ]
    }
   ],
   "source": [
    "from warcio.archiveiterator import ArchiveIterator\n",
    "\n",
    "from whoosh.index import create_in, open_dir\n",
    "from whoosh.fields import Schema, TEXT, ID\n",
    "from whoosh.qparser import QueryParser\n",
    "from whoosh.writing import AsyncWriter\n",
    "\n",
    "import nltk\n",
    "from nltk.tokenize import word_tokenize\n",
    "nltk.download('punkt')\n",
    "\n",
    "import re, os\n",
    "import unicodedata\n",
    "from tqdm import tqdm\n",
    "from bs4 import BeautifulSoup\n",
    "\n",
    "if not os.path.exists(\"indexdir\"):\n",
    "    os.mkdir(\"indexdir\")\n",
    "\n",
    "schema = Schema(title=ID(), content=TEXT())\n",
    "ix = create_in(\"indexdir\", schema)\n"
   ]
  },
  {
   "cell_type": "code",
   "execution_count": 6,
   "metadata": {},
   "outputs": [],
   "source": [
    "\n",
    "def clean_html(content):\n",
    "    \n",
    "    soup = BeautifulSoup(content, \"html.parser\")\n",
    "    for script in soup([\"script\", \"style\"]):\n",
    "        script.extract()  \n",
    "\n",
    "    text = soup.get_text(separator=\" \")  # Keep words spaced properly\n",
    "    \n",
    "    text = re.sub(r'\\s+', ' ', text).strip()\n",
    "    \n",
    "    return text\n",
    "\n",
    "def normalize_unicode(text):\n",
    "    return unicodedata.normalize('NFKC', text)\n",
    "\n",
    "def safe_tokenize(text):\n",
    "    text = normalize_unicode(text)\n",
    "    tokens = word_tokenize(text)\n",
    "    clean_tokens = [\n",
    "        tok for tok in tokens \n",
    "        if all(unicodedata.category(c)[0] != \"C\" for c in tok)  # Remove control characters\n",
    "    ]\n",
    "    return clean_tokens\n"
   ]
  },
  {
   "cell_type": "markdown",
   "metadata": {},
   "source": [
    "## Create Index"
   ]
  },
  {
   "cell_type": "code",
   "execution_count": 8,
   "metadata": {},
   "outputs": [
    {
     "name": "stderr",
     "output_type": "stream",
     "text": [
      "Extracting WARC documents: 74389it [49:05, 25.25it/s]\n"
     ]
    },
    {
     "ename": "TypeError",
     "evalue": "object of type 'int' has no len()",
     "output_type": "error",
     "traceback": [
      "\u001b[0;31m---------------------------------------------------------------------------\u001b[0m",
      "\u001b[0;31mTypeError\u001b[0m                                 Traceback (most recent call last)",
      "Cell \u001b[0;32mIn[8], line 25\u001b[0m\n\u001b[1;32m     23\u001b[0m \u001b[38;5;28;01mfor\u001b[39;00m i \u001b[38;5;129;01min\u001b[39;00m \u001b[38;5;28mrange\u001b[39m(\u001b[38;5;241m1\u001b[39m, numDocs\u001b[38;5;241m+\u001b[39m\u001b[38;5;241m1\u001b[39m): \n\u001b[1;32m     24\u001b[0m     warc_file \u001b[38;5;241m=\u001b[39m \u001b[38;5;124mf\u001b[39m\u001b[38;5;124m\"\u001b[39m\u001b[38;5;124mDataset/\u001b[39m\u001b[38;5;132;01m{\u001b[39;00mi\u001b[38;5;132;01m}\u001b[39;00m\u001b[38;5;124m.warc\u001b[39m\u001b[38;5;124m\"\u001b[39m\n\u001b[0;32m---> 25\u001b[0m     \u001b[43mindex_file\u001b[49m\u001b[43m(\u001b[49m\u001b[43mwarc_file\u001b[49m\u001b[43m)\u001b[49m\n",
      "Cell \u001b[0;32mIn[8], line 20\u001b[0m, in \u001b[0;36mindex_file\u001b[0;34m(warc_file)\u001b[0m\n\u001b[1;32m     17\u001b[0m                 \u001b[38;5;28;01mexcept\u001b[39;00m \u001b[38;5;167;01mUnicodeEncodeError\u001b[39;00m:\n\u001b[1;32m     18\u001b[0m                     \u001b[38;5;28mprint\u001b[39m(\u001b[38;5;124m\"\u001b[39m\u001b[38;5;124mFound a file with non-unicode chacter! Skipping\u001b[39m\u001b[38;5;124m\"\u001b[39m)\n\u001b[0;32m---> 20\u001b[0m \u001b[38;5;28mprint\u001b[39m(\u001b[38;5;124mf\u001b[39m\u001b[38;5;124m\"\u001b[39m\u001b[38;5;124mExtracted \u001b[39m\u001b[38;5;132;01m{\u001b[39;00m\u001b[38;5;28mlen\u001b[39m(numDocs)\u001b[38;5;132;01m}\u001b[39;00m\u001b[38;5;124m documents.\u001b[39m\u001b[38;5;124m\"\u001b[39m)\n",
      "\u001b[0;31mTypeError\u001b[0m: object of type 'int' has no len()"
     ]
    }
   ],
   "source": [
    "def index_file(warc_file):\n",
    "    numDocs = 0\n",
    "    writer = ix.writer()\n",
    "    with open(warc_file, 'rb') as f:\n",
    "        for record in tqdm(ArchiveIterator(f), desc=\"Extracting WARC documents\"):\n",
    "            if record.rec_type == 'response':  # Extract only web page responses\n",
    "                url = record.rec_headers.get('WARC-Target-URI')\n",
    "                content = record.content_stream().read().decode('utf-8', errors='ignore')\n",
    "                text = clean_html(content)\n",
    "                \n",
    "                if len(text) > 100:  # Filter out empty or very short pages\n",
    "                    try:\n",
    "                        # writer.add_document(title=url, content=word_tokenize(text.lower()))\n",
    "                        writer.add_document(title=url, content=safe_tokenize(text))\n",
    "                        numDocs += 1\n",
    "                        # writer.commit()\n",
    "                    except UnicodeEncodeError:\n",
    "                        print(\"Found a file with non-unicode chacter! Skipping\")\n",
    "\n",
    "    print(f\"Extracted {numDocs} documents.\")\n",
    "\n",
    "numDocs = 1 #max number of documents to extract/ read. MAX=32\n",
    "for i in range(1, numDocs+1): \n",
    "    warc_file = f\"Dataset/{i}.warc\"\n",
    "    index_file(warc_file)"
   ]
  },
  {
   "cell_type": "markdown",
   "metadata": {},
   "source": [
    "## Search"
   ]
  },
  {
   "cell_type": "code",
   "execution_count": 10,
   "metadata": {},
   "outputs": [
    {
     "name": "stdout",
     "output_type": "stream",
     "text": [
      "True False\n"
     ]
    }
   ],
   "source": [
    "import whoosh.index as index\n",
    "\n",
    "ix = index.open_dir(\"indexdir\")\n",
    "exists = index.exists_in(\"indexdir\")\n",
    "usages_exists = index.exists_in(\"indexdir\", indexname=\"usages\")\n",
    "print(exists, usages_exists)\n",
    "\n",
    "# ix = open_dir(\"indexdir\")\n",
    "with ix.searcher() as searcher:\n",
    "    query = QueryParser(\"content\", ix.schema).parse(\"some\")\n",
    "    results = searcher.search(query, limit=5)\n",
    "\n",
    "    for result in results:\n",
    "        print(f\"Title: {result['title']}, Score: {result.score}\")\n"
   ]
  }
 ],
 "metadata": {
  "kernelspec": {
   "display_name": "irproj",
   "language": "python",
   "name": "python3"
  },
  "language_info": {
   "codemirror_mode": {
    "name": "ipython",
    "version": 3
   },
   "file_extension": ".py",
   "mimetype": "text/x-python",
   "name": "python",
   "nbconvert_exporter": "python",
   "pygments_lexer": "ipython3",
   "version": "3.9.21"
  }
 },
 "nbformat": 4,
 "nbformat_minor": 2
}
